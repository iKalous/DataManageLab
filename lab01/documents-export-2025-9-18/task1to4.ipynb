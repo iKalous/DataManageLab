{
 "cells": [
  {
   "cell_type": "code",
   "execution_count": null,
   "id": "5bf83567",
   "metadata": {},
   "outputs": [],
   "source": [
    "## Task1\n",
    "\n",
    "import pandas as pd\n",
    "BaseBean = pd.read_csv('BaseBean.csv')\n",
    "\n",
    "BaseBean_filtered = BaseBean[(BaseBean['logType'] == 'custom') & \n",
    "                              (BaseBean['eventId'].isin(['APM-SERVICE-START', 'APM-SERVICE-END']))]\n",
    "\n",
    "BaseBean_filtered = BaseBean_filtered[['_logid', 'eventId', 'user_id', 'logTime']]\n",
    "\n",
    "BaseBean_filtered = BaseBean_filtered.sort_values(by='logTime')\n",
    "\n",
    "BaseBean_filtered.to_csv('task1.csv', index=False)"
   ]
  },
  {
   "cell_type": "code",
   "execution_count": null,
   "id": "58818a69",
   "metadata": {},
   "outputs": [],
   "source": [
    "## Task2\n",
    "\n",
    "BaseBean_sorted = BaseBean.sort_values('logTime')\n",
    "\n",
    "grouped = BaseBean_sorted.groupby('trace_id')\n",
    "\n",
    "results = []\n",
    "\n",
    "for trace_id, group in grouped:\n",
    "    log_count = len(group)\n",
    "    first_event = group.iloc[0] \n",
    "    last_event = group.iloc[-1] \n",
    "    duration_ms = last_event.logTime - first_event.logTime\n",
    "    \n",
    "    results.append({\n",
    "        'trace_id': trace_id,\n",
    "        'log_count': log_count,\n",
    "        'first_event': first_event.eventId,\n",
    "        'last_event': last_event.eventId,\n",
    "        'duration_ms': duration_ms\n",
    "    })\n",
    "    \n",
    "task2_df = pd.DataFrame(results)\n",
    "task2_df.to_csv('task2.csv', index=False)\n"
   ]
  },
  {
   "cell_type": "code",
   "execution_count": 19,
   "id": "0b81d874",
   "metadata": {},
   "outputs": [],
   "source": [
    "## Task3\n",
    "\n",
    "target_events = [\"Failed to connect to gameinfoc.biligame.net\", \"Unable to resolve host gameinfoc.biligame.net\"]\n",
    "\n",
    "grouped = BaseBean_sorted.groupby('trace_id')\n",
    "\n",
    "task3_results = []\n",
    "for trace_id, group in grouped:\n",
    "\n",
    "    events_in_group = set(group['eventId'].unique())\n",
    "    \n",
    "    if all(event in events_in_group for event in target_events):\n",
    "        log_count = len(group)\n",
    "        first_event = group.iloc[0]  \n",
    "        last_event = group.iloc[-1]  \n",
    "        duration_ms = last_event.logTime - first_event.logTime\n",
    "        \n",
    "        task3_results.append({\n",
    "            'trace_id': trace_id,\n",
    "            'log_count': log_count,\n",
    "            'first_event': first_event.eventId,\n",
    "            'last_event': last_event.eventId,\n",
    "            'duration_ms': duration_ms\n",
    "        })\n",
    "\n",
    "task3_df = pd.DataFrame(task3_results)\n",
    "task3_df.to_csv('task3.csv', index=False)"
   ]
  },
  {
   "cell_type": "code",
   "execution_count": null,
   "id": "6febd728",
   "metadata": {},
   "outputs": [],
   "source": [
    "## Task4\n",
    "\n",
    "with open('umas.json', 'r', encoding='utf-8') as f:\n",
    "    data = json.load(f)\n",
    "\n",
    "factor_stats = {}\n",
    "\n",
    "for record in data['data']['records']:\n",
    "    hero_card = record['hero_card']\n",
    "    factors = hero_card['factors']\n",
    "    \n",
    "    for factor in factors:\n",
    "        factor_name = factor['name']\n",
    "        total_rarity = factor['total_rarity']\n",
    "        \n",
    "        if factor_name in factor_stats:\n",
    "            factor_stats[factor_name] += total_rarity\n",
    "        else:\n",
    "            factor_stats[factor_name] = total_rarity\n",
    "\n",
    "import json\n",
    "with open('task4.json', 'w', encoding='utf-8') as f:\n",
    "    json.dump(factor_stats, f, ensure_ascii=False, indent=2)\n"
   ]
  }
 ],
 "metadata": {
  "kernelspec": {
   "display_name": "lab01",
   "language": "python",
   "name": "python3"
  },
  "language_info": {
   "codemirror_mode": {
    "name": "ipython",
    "version": 3
   },
   "file_extension": ".py",
   "mimetype": "text/x-python",
   "name": "python",
   "nbconvert_exporter": "python",
   "pygments_lexer": "ipython3",
   "version": "3.13.7"
  }
 },
 "nbformat": 4,
 "nbformat_minor": 5
}
